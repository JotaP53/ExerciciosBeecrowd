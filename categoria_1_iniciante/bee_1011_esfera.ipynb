{
 "cells": [
  {
   "cell_type": "markdown",
   "metadata": {},
   "source": [
    "### *BEE 1011: Esfera*"
   ]
  },
  {
   "cell_type": "markdown",
   "metadata": {},
   "source": [
    "Faça um programa que calcule e mostre o volume de uma esfera sendo fornecido o valor de seu raio (R). A fórmula para calcular o volume é: (4/3) * pi * R3. Considere (atribua) para pi o valor 3.14159.\n",
    "\n",
    "Dica: Ao utilizar a fórmula, procure usar (4/3.0) ou (4.0/3), pois algumas linguagens (dentre elas o C++), assumem que o resultado da divisão entre dois inteiros é outro inteiro.\n",
    "\n",
    "#### Entrada\n",
    "\n",
    "O arquivo de entrada contém um valor de ponto flutuante (dupla precisão), correspondente ao raio da esfera.\n",
    "\n",
    "#### Saída\n",
    "\n",
    "A saída deverá ser uma mensagem \"VOLUME\" conforme o exemplo fornecido abaixo, com um espaço antes e um espaço depois da igualdade. O valor deverá ser apresentado com 3 casas após o ponto."
   ]
  },
  {
   "cell_type": "code",
   "execution_count": null,
   "metadata": {},
   "outputs": [],
   "source": [
    "R = int(input())\n",
    "pi = 3.14159\n",
    "\n",
    "VOLUME = (4/3.0) * pi * (R ** 3)\n",
    "\n",
    "print(\"VOLUME = %.3f\" % VOLUME)"
   ]
  }
 ],
 "metadata": {
  "language_info": {
   "name": "python"
  }
 },
 "nbformat": 4,
 "nbformat_minor": 2
}
