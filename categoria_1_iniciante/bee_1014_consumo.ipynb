{
 "cells": [
  {
   "cell_type": "markdown",
   "metadata": {},
   "source": [
    "### *BEE 1014: Consumo*"
   ]
  },
  {
   "cell_type": "markdown",
   "metadata": {},
   "source": [
    "Calcule o consumo médio de um automóvel sendo fornecidos a distância total percorrida (em Km) e o total de combustível gasto (em litros).\n",
    "\n",
    "#### Entrada\n",
    "\n",
    "O arquivo de entrada contém dois valores: um valor inteiro X representando a distância total percorrida (em Km), e um valor real Y representando o total de combustível gasto, com um dígito após o ponto decimal.\n",
    "\n",
    "#### Saída\n",
    "\n",
    "Apresente o valor que representa o consumo médio do automóvel com 3 casas após a vírgula, seguido da mensagem \"km/l\"."
   ]
  },
  {
   "cell_type": "code",
   "execution_count": null,
   "metadata": {},
   "outputs": [],
   "source": [
    "X = input()\n",
    "Y = input()\n",
    "\n",
    "calculo = int(X) / float(Y)\n",
    "consumo = \"%.3f\" % calculo\n",
    "\n",
    "print(consumo, \"km/l\")"
   ]
  }
 ],
 "metadata": {
  "language_info": {
   "name": "python"
  }
 },
 "nbformat": 4,
 "nbformat_minor": 2
}
