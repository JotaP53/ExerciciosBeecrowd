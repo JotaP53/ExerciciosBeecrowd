{
 "cells": [
  {
   "cell_type": "markdown",
   "metadata": {},
   "source": [
    "# Exercícios de Lógica de Programação\n",
    "## Categoria: 1. Iniciante"
   ]
  },
  {
   "cell_type": "markdown",
   "metadata": {},
   "source": [
    "### *BEE 1000: Hello World*"
   ]
  },
  {
   "cell_type": "markdown",
   "metadata": {},
   "source": [
    "Bem-vindo ao beecrowd!\n",
    "\n",
    "O seu primeiro programa em qualquer linguagem de programação normalmente é o \"Hello World!\". Neste primeiro problema tudo o que você precisa fazer é imprimir esta mensagem na tela.\n",
    "\n",
    "#### Entrada\n",
    "\n",
    "Este problema não possui nenhuma entrada.\n",
    "\n",
    "#### Saída\n",
    "\n",
    "Você deve imprimir a mensagem \"Hello World!\" e em seguida o final de linha, conforme o exemplo abaixo."
   ]
  },
  {
   "cell_type": "code",
   "execution_count": 1,
   "metadata": {},
   "outputs": [
    {
     "name": "stdout",
     "output_type": "stream",
     "text": [
      "Hello World!\n"
     ]
    }
   ],
   "source": [
    "print(\"Hello World!\")"
   ]
  },
  {
   "cell_type": "markdown",
   "metadata": {},
   "source": [
    "### *BEE 1001: Extremamente Básico*"
   ]
  },
  {
   "cell_type": "markdown",
   "metadata": {},
   "source": [
    "Leia 2 valores inteiros e armazene-os nas variáveis A e B. Efetue a soma de A e B atribuindo o seu resultado na variável X. Imprima X conforme exemplo apresentado abaixo. Não apresente mensagem alguma além daquilo que está sendo especificado e não esqueça de imprimir o fim de linha após o resultado, caso contrário, você receberá \"Presentation Error\".\n",
    "\n",
    "#### Entrada\n",
    "\n",
    "A entrada contém 2 valores inteiros.\n",
    "\n",
    "#### Saída\n",
    "\n",
    "Imprima a mensagem \"X = \" (letra X maiúscula) seguido pelo valor da variável X e pelo final de linha. Cuide para que tenha um espaço antes e depois do sinal de igualdade, conforme o exemplo abaixo."
   ]
  },
  {
   "cell_type": "code",
   "execution_count": 15,
   "metadata": {},
   "outputs": [
    {
     "name": "stdout",
     "output_type": "stream",
     "text": [
      "X = 19\n"
     ]
    }
   ],
   "source": [
    "A = int(input())\n",
    "B = int(input())\n",
    "\n",
    "X = A + B\n",
    "\n",
    "print(\"X =\",X)"
   ]
  },
  {
   "cell_type": "markdown",
   "metadata": {},
   "source": [
    "### *BEE 1002: Área do Círculo*"
   ]
  },
  {
   "cell_type": "markdown",
   "metadata": {},
   "source": [
    "A fórmula para calcular a área de uma circunferência é: area = π . raio2. Considerando para este problema que π = 3.14159:\n",
    "\n",
    "- Efetue o cálculo da área, elevando o valor de raio ao quadrado e multiplicando por π.\n",
    "\n",
    "#### Entrada\n",
    "\n",
    "A entrada contém um valor de ponto flutuante (dupla precisão), no caso, a variável raio.\n",
    "\n",
    "#### Saída\n",
    "\n",
    "Apresentar a mensagem \"A=\" seguido pelo valor da variável area, conforme exemplo abaixo, com 4 casas após o ponto decimal. Utilize variáveis de dupla precisão (double). Como todos os problemas, não esqueça de imprimir o fim de linha após o resultado, caso contrário, você receberá \"Presentation Error\"."
   ]
  },
  {
   "cell_type": "code",
   "execution_count": 3,
   "metadata": {},
   "outputs": [
    {
     "name": "stdout",
     "output_type": "stream",
     "text": [
      "A=9852.0262\n"
     ]
    }
   ],
   "source": [
    "raio = float(input())\n",
    "n = 3.14159\n",
    "\n",
    "area = n * raio * raio\n",
    "\n",
    "print(\"A=%.4f\" % area)"
   ]
  },
  {
   "cell_type": "markdown",
   "metadata": {},
   "source": [
    "### *BEE 1003: Soma Simples*"
   ]
  },
  {
   "cell_type": "markdown",
   "metadata": {},
   "source": [
    "Leia dois valores inteiros, no caso para variáveis A e B. A seguir, calcule a soma entre elas e atribua à variável SOMA. A seguir escrever o valor desta variável.\n",
    "\n",
    "#### Entrada\n",
    "\n",
    "O arquivo de entrada contém 2 valores inteiros.\n",
    "\n",
    "#### Saída\n",
    "\n",
    "Imprima a mensagem \"SOMA\" com todas as letras maiúsculas, com um espaço em branco antes e depois da igualdade seguido pelo valor correspondente à soma de A e B. Como todos os problemas, não esqueça de imprimir o fim de linha após o resultado, caso contrário, você receberá \"Presentation Error\"."
   ]
  },
  {
   "cell_type": "code",
   "execution_count": 7,
   "metadata": {},
   "outputs": [
    {
     "name": "stdout",
     "output_type": "stream",
     "text": [
      "SOMA = 40\n"
     ]
    }
   ],
   "source": [
    "A = int(input())\n",
    "B = int(input())\n",
    "\n",
    "SOMA = A + B\n",
    "\n",
    "print(\"SOMA =\",SOMA)\n",
    "\n",
    "# Nota: Eu estava utilizando input(int()), e quando ia tentar responder a questão, apresentava erro. Quando coloquei int(input()) o erro foi resolvido. Não tenho certeza ainda, mas provavelmente a forma correta realmente seja int(input())."
   ]
  },
  {
   "cell_type": "markdown",
   "metadata": {},
   "source": [
    "### *BEE 1004: Produto Simples*"
   ]
  },
  {
   "cell_type": "markdown",
   "metadata": {},
   "source": [
    "Leia dois valores inteiros. A seguir, calcule o produto entre estes dois valores e atribua esta operação à variável PROD. A seguir mostre a variável PROD com mensagem correspondente.\n",
    "\n",
    "#### Entrada\n",
    "\n",
    "O arquivo de entrada contém 2 valores inteiros.\n",
    "\n",
    "#### Saída\n",
    "\n",
    "Imprima a mensagem \"PROD\" e a variável PROD conforme exemplo abaixo, com um espaço em branco antes e depois da igualdade. Não esqueça de imprimir o fim de linha após o produto, caso contrário seu programa apresentará a mensagem: “Presentation Error”."
   ]
  },
  {
   "cell_type": "code",
   "execution_count": 1,
   "metadata": {},
   "outputs": [
    {
     "name": "stdout",
     "output_type": "stream",
     "text": [
      "PROD = 27\n"
     ]
    }
   ],
   "source": [
    "A = int(input())\n",
    "B = int(input())\n",
    "\n",
    "PROD = A * B\n",
    "\n",
    "print(\"PROD =\",PROD)"
   ]
  },
  {
   "cell_type": "markdown",
   "metadata": {},
   "source": [
    "### *BEE 1005: Média 1*"
   ]
  },
  {
   "cell_type": "markdown",
   "metadata": {},
   "source": [
    "Leia 2 valores de ponto flutuante de dupla precisão A e B, que correspondem a 2 notas de um aluno. A seguir, calcule a média do aluno, sabendo que a nota A tem peso 3.5 e a nota B tem peso 7.5 (A soma dos pesos portanto é 11). Assuma que cada nota pode ir de 0 até 10.0, sempre com uma casa decimal.\n",
    "\n",
    "#### Entrada\n",
    "\n",
    "O arquivo de entrada contém 2 valores com uma casa decimal cada um.\n",
    "\n",
    "#### Saída\n",
    "\n",
    "Imprima a mensagem \"MEDIA\" e a média do aluno conforme exemplo abaixo, com 5 dígitos após o ponto decimal e com um espaço em branco antes e depois da igualdade. Utilize variáveis de dupla precisão (double) e como todos os problemas, não esqueça de imprimir o fim de linha após o resultado, caso contrário, você receberá \"Presentation Error\"."
   ]
  },
  {
   "cell_type": "code",
   "execution_count": 7,
   "metadata": {},
   "outputs": [
    {
     "name": "stdout",
     "output_type": "stream",
     "text": [
      "MEDIA = 42.95455\n"
     ]
    }
   ],
   "source": [
    "A = float(input())\n",
    "B = float(input())\n",
    "\n",
    "MEDIA = ((A * 3.5) + (B * 7.5)) / (3.5 + 7.5)\n",
    "\n",
    "print(\"MEDIA = %.5f\" % MEDIA)"
   ]
  },
  {
   "cell_type": "markdown",
   "metadata": {},
   "source": [
    "### *BEE 1006: Média 2*"
   ]
  },
  {
   "cell_type": "markdown",
   "metadata": {},
   "source": [
    "Leia 3 valores, no caso, variáveis A, B e C, que são as três notas de um aluno. A seguir, calcule a média do aluno, sabendo que a nota A tem peso 2, a nota B tem peso 3 e a nota C tem peso 5. Considere que cada nota pode ir de 0 até 10.0, sempre com uma casa decimal.\n",
    "\n",
    "#### Entrada\n",
    "\n",
    "O arquivo de entrada contém 3 valores com uma casa decimal, de dupla precisão (double).\n",
    "\n",
    "#### Saída\n",
    "\n",
    "Imprima a mensagem \"MEDIA\" e a média do aluno conforme exemplo abaixo, com 1 dígito após o ponto decimal e com um espaço em branco antes e depois da igualdade. Assim como todos os problemas, não esqueça de imprimir o fim de linha após o resultado, caso contrário, você receberá \"Presentation Error\"."
   ]
  },
  {
   "cell_type": "code",
   "execution_count": 1,
   "metadata": {},
   "outputs": [
    {
     "name": "stdout",
     "output_type": "stream",
     "text": [
      "MEDIA = 6.3\n"
     ]
    }
   ],
   "source": [
    "A = float(input())\n",
    "B = float(input())\n",
    "C = float(input())\n",
    "\n",
    "MEDIA = ((A * 2) + (B * 3) + (C * 5)) / (2 + 3 + 5)\n",
    "\n",
    "resultado = \"%.1f\" % MEDIA\n",
    "\n",
    "print(\"MEDIA =\", resultado)"
   ]
  },
  {
   "cell_type": "markdown",
   "metadata": {},
   "source": [
    "### *BEE 1007: Diferença*"
   ]
  },
  {
   "cell_type": "markdown",
   "metadata": {},
   "source": [
    "Leia quatro valores inteiros A, B, C e D. A seguir, calcule e mostre a diferença do produto de A e B pelo produto de C e D segundo a fórmula: DIFERENCA = (A * B - C * D).\n",
    "\n",
    "#### Entrada\n",
    "\n",
    "O arquivo de entrada contém 4 valores inteiros.\n",
    "\n",
    "#### Saída\n",
    "\n",
    "Imprima a mensagem DIFERENCA com todas as letras maiúsculas, conforme exemplo abaixo, com um espaço em branco antes e depois da igualdade."
   ]
  },
  {
   "cell_type": "code",
   "execution_count": 1,
   "metadata": {},
   "outputs": [
    {
     "name": "stdout",
     "output_type": "stream",
     "text": [
      "DIFERENCA = -26\n"
     ]
    }
   ],
   "source": [
    "A = int(input())\n",
    "B = int(input())\n",
    "C = int(input())\n",
    "D = int(input())\n",
    "\n",
    "DIFERENCA = (A * B - C * D)\n",
    "\n",
    "print(\"DIFERENCA =\", DIFERENCA)"
   ]
  },
  {
   "cell_type": "markdown",
   "metadata": {},
   "source": [
    "### *BEE 1008: Salário*"
   ]
  },
  {
   "cell_type": "markdown",
   "metadata": {},
   "source": [
    "Escreva um programa que leia o número de um funcionário, seu número de horas trabalhadas, o valor que recebe por hora e calcula o salário desse funcionário. A seguir, mostre o número e o salário do funcionário, com duas casas decimais.\n",
    "\n",
    "#### Entrada\n",
    "\n",
    "O arquivo de entrada contém 2 números inteiros e 1 número com duas casas decimais, representando o número, quantidade de horas trabalhadas e o valor que o funcionário recebe por hora trabalhada, respectivamente.\n",
    "\n",
    "#### Saída\n",
    "\n",
    "Imprima o número e o salário do funcionário, conforme exemplo fornecido, com um espaço em branco antes e depois da igualdade. No caso do salário, também deve haver um espaço em branco após o $."
   ]
  },
  {
   "cell_type": "code",
   "execution_count": 6,
   "metadata": {},
   "outputs": [
    {
     "name": "stdout",
     "output_type": "stream",
     "text": [
      "NUMBER = 25\n",
      "SALARY = u$ 550.00\n"
     ]
    }
   ],
   "source": [
    "number = int(input())\n",
    "number_hour = int(input())\n",
    "salary_hour = float(input())\n",
    "\n",
    "salary = number_hour * salary_hour\n",
    "\n",
    "print(\"NUMBER =\", number)\n",
    "print(\"SALARY = U$ %.2f\" % salary)"
   ]
  },
  {
   "cell_type": "markdown",
   "metadata": {},
   "source": [
    "### *BEE 1009: Salário com Bônus*"
   ]
  },
  {
   "cell_type": "markdown",
   "metadata": {},
   "source": [
    "Faça um programa que leia o nome de um vendedor, o seu salário fixo e o total de vendas efetuadas por ele no mês (em dinheiro). Sabendo que este vendedor ganha 15% de comissão sobre suas vendas efetuadas, informar o total a receber no final do mês, com duas casas decimais.\n",
    "\n",
    "#### Entrada\n",
    "\n",
    "O arquivo de entrada contém um texto (primeiro nome do vendedor) e 2 valores de dupla precisão (double) com duas casas decimais, representando o salário fixo do vendedor e montante total das vendas efetuadas por este vendedor, respectivamente.\n",
    "\n",
    "#### Saída\n",
    "\n",
    "Imprima o total que o funcionário deverá receber, conforme exemplo fornecido."
   ]
  },
  {
   "cell_type": "code",
   "execution_count": 10,
   "metadata": {},
   "outputs": [
    {
     "name": "stdout",
     "output_type": "stream",
     "text": [
      "TOTAL = R$ 684.54\n"
     ]
    }
   ],
   "source": [
    "nome = str(input())\n",
    "salario_fixo = float(input())\n",
    "vendas_efetuadas = float(input())\n",
    "\n",
    "comissao = vendas_efetuadas * 0.15\n",
    "\n",
    "TOTAL = salario_fixo + comissao\n",
    "\n",
    "print(\"TOTAL = R$ %.2f\" % TOTAL)"
   ]
  },
  {
   "cell_type": "markdown",
   "metadata": {},
   "source": [
    "### *BEE 1010: Cálculo Simples*"
   ]
  },
  {
   "cell_type": "markdown",
   "metadata": {},
   "source": [
    "Neste problema, deve-se ler o código de uma peça 1, o número de peças 1, o valor unitário de cada peça 1, o código de uma peça 2, o número de peças 2 e o valor unitário de cada peça 2. Após, calcule e mostre o valor a ser pago.\n",
    "\n",
    "#### Entrada\n",
    "\n",
    "O arquivo de entrada contém duas linhas de dados. Em cada linha haverá 3 valores, respectivamente dois inteiros e um valor com 2 casas decimais.\n",
    "\n",
    "#### Saída\n",
    "\n",
    "A saída deverá ser uma mensagem conforme o exemplo fornecido abaixo, lembrando de deixar um espaço após os dois pontos e um espaço após o \"R$\". O valor deverá ser apresentado com 2 casas após o ponto."
   ]
  },
  {
   "cell_type": "code",
   "execution_count": 6,
   "metadata": {},
   "outputs": [
    {
     "name": "stdout",
     "output_type": "stream",
     "text": [
      "VALOR A PAGAR: R$ 15.50\n"
     ]
    }
   ],
   "source": [
    "cod1, quant1, valor_unit_1 = input().split() # A função 'split()' foi usada para separar a entrada da string em partes. Sem ela, a entrada de '12 1 5.30', por exemplo, ficaria '1215.30', e logo daria erro.\n",
    "cod2, quant2, valor_unit_2 = input().split()\n",
    "\n",
    "VALOR_A_PAGAR = (int(quant1) * float(valor_unit_1)) + (int(quant2) * float(valor_unit_2))\n",
    "\n",
    "print(\"VALOR A PAGAR: R$ %.2f\" % VALOR_A_PAGAR)"
   ]
  },
  {
   "cell_type": "markdown",
   "metadata": {},
   "source": [
    "### *BEE 1011: Esfera*"
   ]
  },
  {
   "cell_type": "markdown",
   "metadata": {},
   "source": [
    "Faça um programa que calcule e mostre o volume de uma esfera sendo fornecido o valor de seu raio (R). A fórmula para calcular o volume é: (4/3) * pi * R3. Considere (atribua) para pi o valor 3.14159.\n",
    "\n",
    "Dica: Ao utilizar a fórmula, procure usar (4/3.0) ou (4.0/3), pois algumas linguagens (dentre elas o C++), assumem que o resultado da divisão entre dois inteiros é outro inteiro.\n",
    "\n",
    "#### Entrada\n",
    "\n",
    "O arquivo de entrada contém um valor de ponto flutuante (dupla precisão), correspondente ao raio da esfera.\n",
    "\n",
    "#### Saída\n",
    "\n",
    "A saída deverá ser uma mensagem \"VOLUME\" conforme o exemplo fornecido abaixo, com um espaço antes e um espaço depois da igualdade. O valor deverá ser apresentado com 3 casas após o ponto."
   ]
  },
  {
   "cell_type": "code",
   "execution_count": null,
   "metadata": {},
   "outputs": [],
   "source": [
    "R = int(input())\n",
    "pi = 3.14159\n",
    "\n",
    "VOLUME = (4/3.0) * pi * (R ** 3)\n",
    "\n",
    "print(\"VOLUME = %.3f\" % VOLUME)"
   ]
  },
  {
   "cell_type": "markdown",
   "metadata": {},
   "source": [
    "### *BEE 1012: Área*\n"
   ]
  },
  {
   "cell_type": "markdown",
   "metadata": {},
   "source": [
    "Escreva um programa que leia três valores com ponto flutuante de dupla precisão: A, B e C. Em seguida, calcule e mostre:\n",
    "- a) a área do triângulo retângulo que tem A por base e C por altura.\n",
    "- b) a área do círculo de raio C. (pi = 3.14159)\n",
    "- c) a área do trapézio que tem A e B por bases e C por altura.\n",
    "- d) a área do quadrado que tem lado B.\n",
    "- e) a área do retângulo que tem lados A e B.\n",
    "\n",
    "#### Entrada\n",
    "\n",
    "O arquivo de entrada contém três valores com um dígito após o ponto decimal.\n",
    "\n",
    "#### Saída\n",
    "\n",
    "O arquivo de saída deverá conter 5 linhas de dados. Cada linha corresponde a uma das áreas descritas acima, sempre com mensagem correspondente e um espaço entre os dois pontos e o valor. O valor calculado deve ser apresentado com 3 dígitos após o ponto decimal."
   ]
  },
  {
   "cell_type": "code",
   "execution_count": 4,
   "metadata": {},
   "outputs": [
    {
     "name": "stdout",
     "output_type": "stream",
     "text": [
      "TRIANGULO: 7.800\n",
      "CIRCULO: 84.949\n",
      "TRAPEZIO: 18.200\n",
      "QUADRADO: 16.000\n",
      "RETANGULO: 12.000\n"
     ]
    }
   ],
   "source": [
    "A, B, C = input().split()\n",
    "pi = 3.14159\n",
    "\n",
    "# Área do Triângulo Retângulo\n",
    "# Fórmula: (A * C) / 2\n",
    "\n",
    "TRIANGULO = (float(A) * float(C)) / 2\n",
    "\n",
    "# Área do Círculo\n",
    "# Fórmula: pi * C * C\n",
    "\n",
    "CIRCULO = pi * float(C) * float(C)\n",
    "\n",
    "# Área do Trapézio\n",
    "# Fórmula: (A + B) * C / 2\n",
    "\n",
    "TRAPEZIO = (float(A) + float(B)) * float(C) / 2\n",
    "\n",
    "# Área do Quadrado\n",
    "# Fórmula: B ** 2\n",
    "\n",
    "QUADRADO = float(B) ** 2\n",
    "\n",
    "# Área do Retângulo\n",
    "# Fórmula: A * B\n",
    "\n",
    "RETANGULO = float(A) * float(B)\n",
    "\n",
    "print(\"TRIANGULO: %.3f\" % TRIANGULO)\n",
    "print(\"CIRCULO: %.3f\" % CIRCULO)\n",
    "print(\"TRAPEZIO: %.3f\" % TRAPEZIO)\n",
    "print(\"QUADRADO: %.3f\" % QUADRADO)\n",
    "print(\"RETANGULO: %.3f\" % RETANGULO)"
   ]
  },
  {
   "cell_type": "markdown",
   "metadata": {},
   "source": [
    "### *BEE 1013: O Maior*"
   ]
  },
  {
   "cell_type": "markdown",
   "metadata": {},
   "source": [
    "Faça um programa que leia três valores e apresente o maior dos três valores lidos seguido da mensagem “eh o maior”. Utilize a fórmula: <img src=\"formula_bee_1013_o_maior.png\" alt=\"Formula MaiorAB\">\n",
    "\n",
    "Obs.: a fórmula apenas calcula o maior entre os dois primeiros (a e b). Um segundo passo, portanto é necessário para chegar no resultado esperado.\n",
    "\n",
    "#### Entrada\n",
    "\n",
    "O arquivo de entrada contém três valores inteiros.\n",
    "\n",
    "#### Saída\n",
    "\n",
    "Imprima o maior dos três valores seguido por um espaço e a mensagem \"eh o maior\"."
   ]
  },
  {
   "cell_type": "code",
   "execution_count": null,
   "metadata": {},
   "outputs": [],
   "source": [
    "a, b, c = input().split()\n",
    "\n",
    "maiorAB = (int(a) + int(b) + abs(int(a) - int(b))) / 2\n",
    "maiorABC = (maiorAB + int(c) + abs(maiorAB - int(c))) / 2\n",
    "\n",
    "print(int(maiorABC),\"eh o maior\")"
   ]
  },
  {
   "cell_type": "code",
   "execution_count": 31,
   "metadata": {},
   "outputs": [
    {
     "name": "stdout",
     "output_type": "stream",
     "text": [
      "106 eh o maior\n"
     ]
    }
   ],
   "source": [
    "a, b, c = input().split()\n",
    "\n",
    "# Eu sou noob e meu amigo Anewton me deu essa dica de colocar a função 'max()' para não precisar fazer toda a fórmula.\n",
    "maiorABC = max(int(a), int(b), int(c))\n",
    "\n",
    "print(int(maiorABC),\"eh o maior\")"
   ]
  },
  {
   "cell_type": "markdown",
   "metadata": {},
   "source": [
    "### *BEE 1014: Consumo*"
   ]
  },
  {
   "cell_type": "markdown",
   "metadata": {},
   "source": [
    "Calcule o consumo médio de um automóvel sendo fornecidos a distância total percorrida (em Km) e o total de combustível gasto (em litros).\n",
    "\n",
    "#### Entrada\n",
    "\n",
    "O arquivo de entrada contém dois valores: um valor inteiro X representando a distância total percorrida (em Km), e um valor real Y representando o total de combustível gasto, com um dígito após o ponto decimal.\n",
    "\n",
    "#### Saída\n",
    "\n",
    "Apresente o valor que representa o consumo médio do automóvel com 3 casas após a vírgula, seguido da mensagem \"km/l\"."
   ]
  },
  {
   "cell_type": "code",
   "execution_count": 12,
   "metadata": {},
   "outputs": [
    {
     "name": "stdout",
     "output_type": "stream",
     "text": [
      "14.286 km/l\n"
     ]
    }
   ],
   "source": [
    "X = input()\n",
    "Y = input()\n",
    "\n",
    "calculo = int(X) / float(Y)\n",
    "consumo = \"%.3f\" % calculo\n",
    "\n",
    "print(consumo, \"km/l\")"
   ]
  },
  {
   "cell_type": "markdown",
   "metadata": {},
   "source": [
    "### *BEE 1015: Distância Entre Dois Pontos*"
   ]
  },
  {
   "cell_type": "markdown",
   "metadata": {},
   "source": [
    "Leia os quatro valores correspondentes aos eixos x e y de dois pontos quaisquer no plano, p1(x1,y1) e p2(x2,y2) e calcule a distância entre eles, mostrando 4 casas decimais após a vírgula, segundo a fórmula:\n",
    "\n",
    "Distancia = <img src=\"formula_bee_1015_distancia_entre_dois_pontos\" alt=\"Fórmula da Distância Entre Dois Pontos\">\n",
    "\n",
    "#### Entrada\n",
    "\n",
    "O arquivo de entrada contém duas linhas de dados. A primeira linha contém dois valores de ponto flutuante: x1 y1 e a segunda linha contém dois valores de ponto flutuante x2 y2.\n",
    "\n",
    "#### Saída\n",
    "\n",
    "Calcule e imprima o valor da distância segundo a fórmula fornecida, com 4 casas após o ponto decimal."
   ]
  },
  {
   "cell_type": "code",
   "execution_count": null,
   "metadata": {},
   "outputs": [],
   "source": [
    "import math\n",
    "\n",
    "x1, y1 = input().split()\n",
    "x2, y2 = input().split()\n",
    "\n",
    "distancia = math.sqrt(((float(x2) - float(x1)) * (float(x2) - float(x1)))\n",
    "                      + ((float(y2) - float(y1)) * (float(y2) - float(y1))))\n",
    "\n",
    "print(\"%.4f\" % distancia)\n"
   ]
  },
  {
   "cell_type": "code",
   "execution_count": 7,
   "metadata": {},
   "outputs": [
    {
     "name": "stdout",
     "output_type": "stream",
     "text": [
      "4.4721\n"
     ]
    }
   ],
   "source": [
    "x1, y1 = input().split()\n",
    "x2, y2 = input().split()\n",
    "\n",
    "distancia = (((float(x2) - float(x1)) ** 2)\n",
    "             + ((float(y2) - float(y1)) ** 2)) ** (1/2)\n",
    "\n",
    "print(\"%.4f\" % distancia)\n"
   ]
  },
  {
   "cell_type": "markdown",
   "metadata": {},
   "source": [
    "### *BEE 1016: Distância*"
   ]
  },
  {
   "cell_type": "markdown",
   "metadata": {},
   "source": [
    "Dois carros (X e Y) partem em uma mesma direção. O carro X sai com velocidade constante de 60 Km/h e o carro Y sai com velocidade constante de 90 Km/h.\n",
    "\n",
    "Em uma hora (60 minutos) o carro Y consegue se distanciar 30 quilômetros do carro X, ou seja, consegue se afastar um quilômetro a cada 2 minutos.\n",
    "\n",
    "Leia a distância (em Km) e calcule quanto tempo leva (em minutos) para o carro Y tomar essa distância do outro carro.\n",
    "\n",
    "#### Entrada\n",
    "\n",
    "O arquivo de entrada contém um número inteiro.\n",
    "\n",
    "#### Saída\n",
    "\n",
    "Imprima o tempo necessário seguido da mensagem \"minutos\"."
   ]
  },
  {
   "cell_type": "code",
   "execution_count": 2,
   "metadata": {},
   "outputs": [
    {
     "name": "stdout",
     "output_type": "stream",
     "text": [
      "220 minutos\n"
     ]
    }
   ],
   "source": [
    "km = int(input())\n",
    "\n",
    "distancia = km * 2\n",
    "\n",
    "print(distancia, \"minutos\")\n"
   ]
  },
  {
   "cell_type": "markdown",
   "metadata": {},
   "source": [
    "### *BEE 1017: Gasto de Combustível*"
   ]
  },
  {
   "cell_type": "markdown",
   "metadata": {},
   "source": [
    "Joaozinho quer calcular e mostrar a quantidade de litros de combustível gastos em uma viagem, ao utilizar um automóvel que faz 12 KM/L. Para isso, ele gostaria que você o auxiliasse através de um simples programa. Para efetuar o cálculo, deve-se fornecer o tempo gasto na viagem (em horas) e a velocidade média durante a mesma (em km/h). Assim, pode-se obter distância percorrida e, em seguida, calcular quantos litros seriam necessários. Mostre o valor com 3 casas decimais após o ponto.\n",
    "\n",
    "#### Entrada\n",
    "\n",
    "O arquivo de entrada contém dois inteiros. O primeiro é o tempo gasto na viagem (em horas) e o segundo é a velocidade média durante a mesma (em km/h).\n",
    "\n",
    "#### Saída\n",
    "\n",
    "Imprima a quantidade de litros necessária para realizar a viagem, com três dígitos após o ponto decimal"
   ]
  },
  {
   "cell_type": "code",
   "execution_count": 3,
   "metadata": {},
   "outputs": [
    {
     "name": "stdout",
     "output_type": "stream",
     "text": [
      "122.833\n"
     ]
    }
   ],
   "source": [
    "tempo = int(input())\n",
    "velocidade = int(input())\n",
    "\n",
    "litros = 12\n",
    "\n",
    "gasto = (tempo * velocidade) / litros\n",
    "\n",
    "print(\"%.3f\" % gasto)\n"
   ]
  }
 ],
 "metadata": {
  "kernelspec": {
   "display_name": "Python 3",
   "language": "python",
   "name": "python3"
  },
  "language_info": {
   "codemirror_mode": {
    "name": "ipython",
    "version": 3
   },
   "file_extension": ".py",
   "mimetype": "text/x-python",
   "name": "python",
   "nbconvert_exporter": "python",
   "pygments_lexer": "ipython3",
   "version": "3.12.3"
  }
 },
 "nbformat": 4,
 "nbformat_minor": 2
}
