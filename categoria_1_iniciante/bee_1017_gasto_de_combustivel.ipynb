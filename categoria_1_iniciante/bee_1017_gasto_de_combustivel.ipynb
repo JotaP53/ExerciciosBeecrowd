{
 "cells": [
  {
   "cell_type": "markdown",
   "metadata": {},
   "source": [
    "### *BEE 1017: Gasto de Combustível*"
   ]
  },
  {
   "cell_type": "markdown",
   "metadata": {},
   "source": [
    "Joaozinho quer calcular e mostrar a quantidade de litros de combustível gastos em uma viagem, ao utilizar um automóvel que faz 12 KM/L. Para isso, ele gostaria que você o auxiliasse através de um simples programa. Para efetuar o cálculo, deve-se fornecer o tempo gasto na viagem (em horas) e a velocidade média durante a mesma (em km/h). Assim, pode-se obter distância percorrida e, em seguida, calcular quantos litros seriam necessários. Mostre o valor com 3 casas decimais após o ponto.\n",
    "\n",
    "#### Entrada\n",
    "\n",
    "O arquivo de entrada contém dois inteiros. O primeiro é o tempo gasto na viagem (em horas) e o segundo é a velocidade média durante a mesma (em km/h).\n",
    "\n",
    "#### Saída\n",
    "\n",
    "Imprima a quantidade de litros necessária para realizar a viagem, com três dígitos após o ponto decimal"
   ]
  },
  {
   "cell_type": "code",
   "execution_count": null,
   "metadata": {},
   "outputs": [],
   "source": [
    "tempo = int(input())\n",
    "velocidade = int(input())\n",
    "\n",
    "litros = 12\n",
    "\n",
    "gasto = (tempo * velocidade) / litros\n",
    "\n",
    "print(\"%.3f\" % gasto)\n"
   ]
  }
 ],
 "metadata": {
  "kernelspec": {
   "display_name": "Python 3",
   "language": "python",
   "name": "python3"
  },
  "language_info": {
   "codemirror_mode": {
    "name": "ipython",
    "version": 3
   },
   "file_extension": ".py",
   "mimetype": "text/x-python",
   "name": "python",
   "nbconvert_exporter": "python",
   "pygments_lexer": "ipython3",
   "version": "3.12.3"
  }
 },
 "nbformat": 4,
 "nbformat_minor": 2
}
