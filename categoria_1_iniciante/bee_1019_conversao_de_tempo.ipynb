{
 "cells": [
  {
   "cell_type": "markdown",
   "metadata": {},
   "source": [
    "### *BEE 1019: Conversão de Tempo*"
   ]
  },
  {
   "cell_type": "markdown",
   "metadata": {},
   "source": [
    "Leia um valor inteiro, que é o tempo de duração em segundos de um determinado evento em uma fábrica, e informe-o expresso no formato horas:minutos:segundos.\n",
    "\n",
    "#### Entrada\n",
    "\n",
    "O arquivo de entrada contém um valor inteiro N.\n",
    "\n",
    "#### Saída\n",
    "\n",
    "Imprima o tempo lido no arquivo de entrada (segundos), convertido para horas:minutos:segundos, conforme exemplo fornecido."
   ]
  },
  {
   "cell_type": "code",
   "execution_count": null,
   "metadata": {},
   "outputs": [],
   "source": [
    "N = int(input())\n",
    "\n",
    "horas = N // 3600\n",
    "resto_segundos = N % 3600\n",
    "minutos = resto_segundos // 60\n",
    "segundos = resto_segundos % 60\n",
    "\n",
    "print(str(horas)+\":\"+str(minutos)+\":\"+str(segundos))\n"
   ]
  }
 ],
 "metadata": {
  "language_info": {
   "name": "python"
  }
 },
 "nbformat": 4,
 "nbformat_minor": 2
}
