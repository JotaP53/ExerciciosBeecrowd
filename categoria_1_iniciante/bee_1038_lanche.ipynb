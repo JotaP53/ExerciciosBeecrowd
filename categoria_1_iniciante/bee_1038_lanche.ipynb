{
 "cells": [
  {
   "cell_type": "markdown",
   "metadata": {},
   "source": [
    "### *BEE 1038: Lanche*"
   ]
  },
  {
   "cell_type": "markdown",
   "metadata": {},
   "source": [
    "Com base na tabela abaixo, escreva um programa que leia o código de um item e a quantidade deste item. A seguir, calcule e mostre o valor da conta a pagar.\n",
    "\n",
    "<img src=\"./imagem_bee_1038_lanche.webp\" alt=\"Tabela\">\n",
    "\n",
    "#### Entrada\n",
    "\n",
    "O arquivo de entrada contém dois valores inteiros correspondentes ao código e à quantidade de um item conforme tabela acima.\n",
    "\n",
    "#### Saída\n",
    "\n",
    "O arquivo de saída deve conter a mensagem \"Total: R$ \" seguido pelo valor a ser pago, com 2 casas após o ponto decimal."
   ]
  },
  {
   "cell_type": "code",
   "execution_count": null,
   "metadata": {},
   "outputs": [],
   "source": [
    "X = input().split()\n",
    "\n",
    "codigo_item_1 = 1\n",
    "codigo_item_2 = 2\n",
    "codigo_item_3 = 3\n",
    "codigo_item_4 = 4\n",
    "codigo_item_5 = 5\n",
    "\n",
    "valor_item_1 = 4.00\n",
    "valor_item_1 = 4.50\n",
    "valor_item_1 = 5.00\n",
    "valor_item_1 = 2.00\n",
    "valor_item_1 = 1.00\n",
    "\n",
    "int()"
   ]
  },
  {
   "cell_type": "code",
   "execution_count": null,
   "metadata": {},
   "outputs": [],
   "source": [
    "codigo_item [1]"
   ]
  }
 ],
 "metadata": {
  "kernelspec": {
   "display_name": "Python 3",
   "language": "python",
   "name": "python3"
  },
  "language_info": {
   "codemirror_mode": {
    "name": "ipython",
    "version": 3
   },
   "file_extension": ".py",
   "mimetype": "text/x-python",
   "name": "python",
   "nbconvert_exporter": "python",
   "pygments_lexer": "ipython3",
   "version": "3.12.3"
  }
 },
 "nbformat": 4,
 "nbformat_minor": 2
}
