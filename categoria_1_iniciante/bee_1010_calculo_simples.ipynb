{
 "cells": [
  {
   "cell_type": "markdown",
   "metadata": {},
   "source": [
    "### *BEE 1010: Cálculo Simples*"
   ]
  },
  {
   "cell_type": "markdown",
   "metadata": {},
   "source": [
    "Neste problema, deve-se ler o código de uma peça 1, o número de peças 1, o valor unitário de cada peça 1, o código de uma peça 2, o número de peças 2 e o valor unitário de cada peça 2. Após, calcule e mostre o valor a ser pago.\n",
    "\n",
    "#### Entrada\n",
    "\n",
    "O arquivo de entrada contém duas linhas de dados. Em cada linha haverá 3 valores, respectivamente dois inteiros e um valor com 2 casas decimais.\n",
    "\n",
    "#### Saída\n",
    "\n",
    "A saída deverá ser uma mensagem conforme o exemplo fornecido abaixo, lembrando de deixar um espaço após os dois pontos e um espaço após o \"R$\". O valor deverá ser apresentado com 2 casas após o ponto."
   ]
  },
  {
   "cell_type": "code",
   "execution_count": null,
   "metadata": {},
   "outputs": [],
   "source": [
    "cod1, quant1, valor_unit_1 = input().split() # A função 'split()' foi usada para separar a entrada da string em partes. Sem ela, a entrada de '12 1 5.30', por exemplo, ficaria '1215.30', e logo daria erro.\n",
    "cod2, quant2, valor_unit_2 = input().split()\n",
    "\n",
    "VALOR_A_PAGAR = (int(quant1) * float(valor_unit_1)) + (int(quant2) * float(valor_unit_2))\n",
    "\n",
    "print(\"VALOR A PAGAR: R$ %.2f\" % VALOR_A_PAGAR)"
   ]
  }
 ],
 "metadata": {
  "language_info": {
   "name": "python"
  }
 },
 "nbformat": 4,
 "nbformat_minor": 2
}
