{
 "cells": [
  {
   "cell_type": "markdown",
   "metadata": {},
   "source": [
    "### *BEE 1015: Distância Entre Dois Pontos*"
   ]
  },
  {
   "cell_type": "markdown",
   "metadata": {},
   "source": [
    "Leia os quatro valores correspondentes aos eixos x e y de dois pontos quaisquer no plano, p1(x1,y1) e p2(x2,y2) e calcule a distância entre eles, mostrando 4 casas decimais após a vírgula, segundo a fórmula:\n",
    "\n",
    "Distancia = <img src=\"formula_bee_1015_distancia_entre_dois_pontos.png\" alt=\"Fórmula da Distância Entre Dois Pontos\">\n",
    "\n",
    "#### Entrada\n",
    "\n",
    "O arquivo de entrada contém duas linhas de dados. A primeira linha contém dois valores de ponto flutuante: x1 y1 e a segunda linha contém dois valores de ponto flutuante x2 y2.\n",
    "\n",
    "#### Saída\n",
    "\n",
    "Calcule e imprima o valor da distância segundo a fórmula fornecida, com 4 casas após o ponto decimal."
   ]
  },
  {
   "cell_type": "code",
   "execution_count": null,
   "metadata": {},
   "outputs": [],
   "source": [
    "import math\n",
    "\n",
    "x1, y1 = input().split()\n",
    "x2, y2 = input().split()\n",
    "\n",
    "distancia = math.sqrt(((float(x2) - float(x1)) * (float(x2) - float(x1)))\n",
    "                      + ((float(y2) - float(y1)) * (float(y2) - float(y1))))\n",
    "\n",
    "print(\"%.4f\" % distancia)\n"
   ]
  },
  {
   "cell_type": "code",
   "execution_count": null,
   "metadata": {},
   "outputs": [],
   "source": [
    "x1, y1 = input().split()\n",
    "x2, y2 = input().split()\n",
    "\n",
    "distancia = (((float(x2) - float(x1)) ** 2)\n",
    "             + ((float(y2) - float(y1)) ** 2)) ** (1/2)\n",
    "\n",
    "print(\"%.4f\" % distancia)\n"
   ]
  }
 ],
 "metadata": {
  "language_info": {
   "name": "python"
  }
 },
 "nbformat": 4,
 "nbformat_minor": 2
}
