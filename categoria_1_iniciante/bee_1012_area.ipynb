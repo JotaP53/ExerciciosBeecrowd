{
 "cells": [
  {
   "cell_type": "markdown",
   "metadata": {},
   "source": [
    "### *BEE 1012: Área*"
   ]
  },
  {
   "cell_type": "markdown",
   "metadata": {},
   "source": [
    "Escreva um programa que leia três valores com ponto flutuante de dupla precisão: A, B e C. Em seguida, calcule e mostre:\n",
    "- a) a área do triângulo retângulo que tem A por base e C por altura.\n",
    "- b) a área do círculo de raio C. (pi = 3.14159)\n",
    "- c) a área do trapézio que tem A e B por bases e C por altura.\n",
    "- d) a área do quadrado que tem lado B.\n",
    "- e) a área do retângulo que tem lados A e B.\n",
    "\n",
    "#### Entrada\n",
    "\n",
    "O arquivo de entrada contém três valores com um dígito após o ponto decimal.\n",
    "\n",
    "#### Saída\n",
    "\n",
    "O arquivo de saída deverá conter 5 linhas de dados. Cada linha corresponde a uma das áreas descritas acima, sempre com mensagem correspondente e um espaço entre os dois pontos e o valor. O valor calculado deve ser apresentado com 3 dígitos após o ponto decimal."
   ]
  },
  {
   "cell_type": "code",
   "execution_count": null,
   "metadata": {},
   "outputs": [],
   "source": [
    "A, B, C = input().split()\n",
    "pi = 3.14159\n",
    "\n",
    "# Área do Triângulo Retângulo\n",
    "# Fórmula: (A * C) / 2\n",
    "\n",
    "TRIANGULO = (float(A) * float(C)) / 2\n",
    "\n",
    "# Área do Círculo\n",
    "# Fórmula: pi * C * C\n",
    "\n",
    "CIRCULO = pi * float(C) * float(C)\n",
    "\n",
    "# Área do Trapézio\n",
    "# Fórmula: (A + B) * C / 2\n",
    "\n",
    "TRAPEZIO = (float(A) + float(B)) * float(C) / 2\n",
    "\n",
    "# Área do Quadrado\n",
    "# Fórmula: B ** 2\n",
    "\n",
    "QUADRADO = float(B) ** 2\n",
    "\n",
    "# Área do Retângulo\n",
    "# Fórmula: A * B\n",
    "\n",
    "RETANGULO = float(A) * float(B)\n",
    "\n",
    "print(\"TRIANGULO: %.3f\" % TRIANGULO)\n",
    "print(\"CIRCULO: %.3f\" % CIRCULO)\n",
    "print(\"TRAPEZIO: %.3f\" % TRAPEZIO)\n",
    "print(\"QUADRADO: %.3f\" % QUADRADO)\n",
    "print(\"RETANGULO: %.3f\" % RETANGULO)"
   ]
  }
 ],
 "metadata": {
  "language_info": {
   "name": "python"
  }
 },
 "nbformat": 4,
 "nbformat_minor": 2
}
