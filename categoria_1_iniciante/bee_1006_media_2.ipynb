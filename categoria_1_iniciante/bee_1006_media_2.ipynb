{
 "cells": [
  {
   "cell_type": "markdown",
   "metadata": {},
   "source": [
    "### *BEE 1006: Média 2*"
   ]
  },
  {
   "cell_type": "markdown",
   "metadata": {},
   "source": [
    "Leia 3 valores, no caso, variáveis A, B e C, que são as três notas de um aluno. A seguir, calcule a média do aluno, sabendo que a nota A tem peso 2, a nota B tem peso 3 e a nota C tem peso 5. Considere que cada nota pode ir de 0 até 10.0, sempre com uma casa decimal.\n",
    "\n",
    "#### Entrada\n",
    "\n",
    "O arquivo de entrada contém 3 valores com uma casa decimal, de dupla precisão (double).\n",
    "\n",
    "#### Saída\n",
    "\n",
    "Imprima a mensagem \"MEDIA\" e a média do aluno conforme exemplo abaixo, com 1 dígito após o ponto decimal e com um espaço em branco antes e depois da igualdade. Assim como todos os problemas, não esqueça de imprimir o fim de linha após o resultado, caso contrário, você receberá \"Presentation Error\"."
   ]
  },
  {
   "cell_type": "code",
   "execution_count": null,
   "metadata": {},
   "outputs": [],
   "source": [
    "A = float(input())\n",
    "B = float(input())\n",
    "C = float(input())\n",
    "\n",
    "MEDIA = ((A * 2) + (B * 3) + (C * 5)) / (2 + 3 + 5)\n",
    "\n",
    "resultado = \"%.1f\" % MEDIA\n",
    "\n",
    "print(\"MEDIA =\", resultado)"
   ]
  }
 ],
 "metadata": {
  "language_info": {
   "name": "python"
  }
 },
 "nbformat": 4,
 "nbformat_minor": 2
}
