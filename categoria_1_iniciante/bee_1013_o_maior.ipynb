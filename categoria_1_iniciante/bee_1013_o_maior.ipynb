{
 "cells": [
  {
   "cell_type": "markdown",
   "metadata": {},
   "source": [
    "### *BEE 1013: O Maior*"
   ]
  },
  {
   "cell_type": "markdown",
   "metadata": {},
   "source": [
    "Faça um programa que leia três valores e apresente o maior dos três valores lidos seguido da mensagem “eh o maior”. Utilize a fórmula: <img src=\"formula_bee_1013_o_maior.png\" alt=\"Formula MaiorAB\">\n",
    "\n",
    "Obs.: a fórmula apenas calcula o maior entre os dois primeiros (a e b). Um segundo passo, portanto é necessário para chegar no resultado esperado.\n",
    "\n",
    "#### Entrada\n",
    "\n",
    "O arquivo de entrada contém três valores inteiros.\n",
    "\n",
    "#### Saída\n",
    "\n",
    "Imprima o maior dos três valores seguido por um espaço e a mensagem \"eh o maior\"."
   ]
  },
  {
   "cell_type": "code",
   "execution_count": null,
   "metadata": {},
   "outputs": [],
   "source": [
    "a, b, c = input().split()\n",
    "\n",
    "maiorAB = (int(a) + int(b) + abs(int(a) - int(b))) / 2\n",
    "maiorABC = (maiorAB + int(c) + abs(maiorAB - int(c))) / 2\n",
    "\n",
    "print(int(maiorABC),\"eh o maior\")"
   ]
  }
 ],
 "metadata": {
  "language_info": {
   "name": "python"
  }
 },
 "nbformat": 4,
 "nbformat_minor": 2
}
